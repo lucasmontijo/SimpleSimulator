{
 "cells": [
  {
   "cell_type": "markdown",
   "metadata": {},
   "source": [
    "# Basic Simulator\n",
    "Este é um simulador básico de ambientes para um agente reativo simples em um ambiente observável. A simulação em questão é para um aspirador de pó que se pode limpar duas salas diferentes: A e B. O mundo do aspirador de pó é melhor visualizado na imagem a seguir:\n",
    "\n",
    "[![oOm6sW.png](https://i.im.ge/2021/10/17/oOm6sW.png)](https://im.ge/i/oOm6sW)\n",
    "\n",
    "O aspirador inicia em uma posição A ou B aleatoriamente. Em seguida, o agente é capaz de identificar se sua sala está suja, limpando-a. Caso não esteja suja, o agente é capaz de verificar se a sala vizinha está suja\n",
    "\n",
    "[![oO6Duq.png](https://i.im.ge/2021/10/17/oO6Duq.png)](https://im.ge/i/oO6Duq)"
   ]
  },
  {
   "cell_type": "markdown",
   "metadata": {},
   "source": [
    "## Import da biblioteca Random \n",
    "\n",
    "Necessária para aleatoriedades da simulação"
   ]
  },
  {
   "cell_type": "code",
   "execution_count": 175,
   "metadata": {},
   "outputs": [],
   "source": [
    "import random as rd\n"
   ]
  },
  {
   "cell_type": "markdown",
   "metadata": {},
   "source": [
    "## Definição de parâmetros \n",
    "\n",
    "Necessários para a simulação de gerar sujeira e definição de tipos limpo, sujo e identificação das salas."
   ]
  },
  {
   "cell_type": "code",
   "execution_count": 176,
   "metadata": {},
   "outputs": [],
   "source": [
    "\n",
    "dirtSpawnProbability = 75\n",
    "PLACE_STATUS = {\"clean\":0, \"dirty\":1}\n",
    "POSITION = {'A':0, 'B':1}\n",
    "CYCLES = 1000\n",
    "\n",
    "def spawnStatus():\n",
    "    return rd.randint(0,100) <= dirtSpawnProbability\n"
   ]
  },
  {
   "cell_type": "markdown",
   "metadata": {},
   "source": [
    "## Classe Place\n",
    "\n",
    "Classe que modela o lugar com as salas A e B."
   ]
  },
  {
   "cell_type": "code",
   "execution_count": 177,
   "metadata": {},
   "outputs": [],
   "source": [
    "\n",
    "class Place():\n",
    "    def __init__(self, mode):\n",
    "        self.rooms = mode\n",
    "\n",
    "    def isDirty(self, position):\n",
    "        return self.rooms[position] == PLACE_STATUS['dirty']\n",
    "\n",
    "\n",
    "    def makeDirty(self, position):\n",
    "        if not self.isDirty(position):\n",
    "            self.rooms[position] = PLACE_STATUS['dirty']\n",
    "\n",
    "    def makeClean(self, position):\n",
    "        if self.isDirty(position):\n",
    "            self.rooms[position] = PLACE_STATUS['clean']\n",
    "\n",
    "    def spawnDirt(self):\n",
    "        position = rd.choice([POSITION['A'], POSITION['B']])\n",
    "        if not self.isDirty(position) and spawnStatus():\n",
    "            self.makeDirty(position)\n"
   ]
  },
  {
   "cell_type": "markdown",
   "metadata": {},
   "source": [
    "## Classe Agent\n",
    "\n",
    "Clase que modela o agente (aspirador de pó) e seus comportamentos"
   ]
  },
  {
   "cell_type": "code",
   "execution_count": 178,
   "metadata": {},
   "outputs": [],
   "source": [
    "\n",
    "class Agent():\n",
    "\n",
    "    def __init__(self, position, place: Place):\n",
    "        self.position = position\n",
    "        self.place = place\n",
    "        self.score = 0\n",
    "\n",
    "    def moveLeft(self):\n",
    "        if self.position == POSITION['B']:\n",
    "            self.position = POSITION['A']\n",
    "        else: print(\"not possible to move agent\")\n",
    "\n",
    "    def moveRight(self):\n",
    "        if self.position == POSITION['A']:\n",
    "            self.position = POSITION['B']\n",
    "        else: print(\"not possible to move agent\")\n",
    "\n",
    "    def startCleaning(self):\n",
    "        if self.place.isDirty(self.position):\n",
    "            self.place.makeClean(self.position)\n",
    "            self.place.spawnDirt()\n",
    "            self.score += 1\n",
    "        else: \n",
    "            self.place.spawnDirt()\n"
   ]
  },
  {
   "cell_type": "markdown",
   "metadata": {},
   "source": [
    "## Main"
   ]
  },
  {
   "cell_type": "code",
   "execution_count": 179,
   "metadata": {},
   "outputs": [
    {
     "name": "stdout",
     "output_type": "stream",
     "text": [
      "Iteration  0\n",
      "Starting with room A being  clean  and room B being  clean . The agent cleaned  355\n",
      "\n",
      "\n",
      "Iteration  1\n",
      "Starting with room A being  clean  and room B being  dirty . The agent cleaned  387\n",
      "\n",
      "\n",
      "Iteration  2\n",
      "Starting with room A being  dirty  and room B being  clean . The agent cleaned  394\n",
      "\n",
      "\n",
      "Iteration  3\n",
      "Starting with room A being  dirty  and room B being  dirty . The agent cleaned  378\n",
      "\n",
      "\n",
      "The average score was  378.5\n"
     ]
    }
   ],
   "source": [
    "\n",
    "def main():\n",
    "    countIter = 0\n",
    "    scoreCount = 0\n",
    "    for statusA in PLACE_STATUS:\n",
    "        for statusB in PLACE_STATUS:\n",
    "            print(\"Iteration \", countIter)\n",
    "            startMode = [statusA, statusB]\n",
    "            place = Place(startMode)\n",
    "            agentStartPosition = rd.choice([POSITION['A'], POSITION['B']])\n",
    "            agent = Agent(agentStartPosition, place)\n",
    "            for i in range(CYCLES):\n",
    "                agent.startCleaning()\n",
    "            countIter += 1\n",
    "            scoreCount += agent.score\n",
    "            print(\"Starting with room A being \", statusA, \" and room B being \", statusB, \". The agent cleaned \", agent.score)\n",
    "            print(\"\\n\")\n",
    "    print(\"The average score was \", scoreCount/countIter)\n",
    "main()\n"
   ]
  }
 ],
 "metadata": {
  "interpreter": {
   "hash": "b3ba2566441a7c06988d0923437866b63cedc61552a5af99d1f4fb67d367b25f"
  },
  "kernelspec": {
   "display_name": "Python 3.7.6 64-bit ('base': conda)",
   "name": "python3"
  },
  "language_info": {
   "codemirror_mode": {
    "name": "ipython",
    "version": 3
   },
   "file_extension": ".py",
   "mimetype": "text/x-python",
   "name": "python",
   "nbconvert_exporter": "python",
   "pygments_lexer": "ipython3",
   "version": "3.7.6"
  },
  "orig_nbformat": 4
 },
 "nbformat": 4,
 "nbformat_minor": 2
}

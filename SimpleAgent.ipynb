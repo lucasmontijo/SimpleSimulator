{
  "nbformat": 4,
  "nbformat_minor": 0,
  "metadata": {
    "interpreter": {
      "hash": "b3ba2566441a7c06988d0923437866b63cedc61552a5af99d1f4fb67d367b25f"
    },
    "kernelspec": {
      "display_name": "Python 3.7.6 64-bit ('base': conda)",
      "name": "python3"
    },
    "language_info": {
      "codemirror_mode": {
        "name": "ipython",
        "version": 3
      },
      "file_extension": ".py",
      "mimetype": "text/x-python",
      "name": "python",
      "nbconvert_exporter": "python",
      "pygments_lexer": "ipython3",
      "version": "3.7.6"
    },
    "orig_nbformat": 4,
    "colab": {
      "name": "SimpleAgent.ipynb",
      "provenance": [],
      "collapsed_sections": []
    }
  },
  "cells": [
    {
      "cell_type": "markdown",
      "metadata": {
        "id": "DuVt4glZ83VX"
      },
      "source": [
        "# Basic Simulator\n",
        "Também disponível em: https://github.com/lucasmontijo/SimpleSimulator\n",
        "\n",
        "Este é um simulador básico de ambientes para um agente reativo simples em um ambiente observável. A simulação em questão é para um aspirador de pó que se pode limpar duas salas diferentes: A e B. Neste novo caso, o agente não sabe o estado de limpeza da sala vizinha e também, para cada qualquer movimento que não seja NoOp e limpar, o agente perde 1 ponto. O mundo do aspirador de pó é melhor visualizado na imagem a seguir:\n",
        "\n",
        "[![oOm6sW.png](https://i.im.ge/2021/10/17/oOm6sW.png)](https://im.ge/i/oOm6sW)\n",
        "\n",
        "O aspirador inicia em uma posição A ou B aleatoriamente. Em seguida, o agente é capaz de identificar se sua sala está suja, limpando-a. Caso não esteja suja, o agente é capaz de verificar se a sala vizinha está suja\n",
        "\n",
        "[![oO6Duq.png](https://i.im.ge/2021/10/17/oO6Duq.png)](https://im.ge/i/oO6Duq)"
      ]
    },
    {
      "cell_type": "markdown",
      "metadata": {
        "id": "_AyS8-F383Vf"
      },
      "source": [
        "## Import da biblioteca Random \n",
        "\n",
        "Necessária para aleatoriedades da simulação"
      ]
    },
    {
      "cell_type": "code",
      "metadata": {
        "id": "Bhy3RLrO83Vg"
      },
      "source": [
        "import random as rd\n"
      ],
      "execution_count": 156,
      "outputs": []
    },
    {
      "cell_type": "markdown",
      "metadata": {
        "id": "sKn0kOB383Vi"
      },
      "source": [
        "## Definição de parâmetros \n",
        "\n",
        "Necessários para a simulação de gerar sujeira e definição de tipos limpo, sujo e identificação das salas."
      ]
    },
    {
      "cell_type": "code",
      "metadata": {
        "id": "hsIWTe_Z83Vi"
      },
      "source": [
        "\n",
        "dirtSpawnProbability = 30\n",
        "PLACE_STATUS = {\"clean\":0, \"dirty\":1}\n",
        "POSITION = {'A':0, 'B':1}\n",
        "CYCLES = 1000\n",
        "\n",
        "def spawnStatus():\n",
        "    return rd.randint(0,100) <= dirtSpawnProbability\n"
      ],
      "execution_count": 157,
      "outputs": []
    },
    {
      "cell_type": "markdown",
      "metadata": {
        "id": "8Q-Y-Xca83Vj"
      },
      "source": [
        "## Classe Place\n",
        "\n",
        "Classe que modela o lugar com as salas A e B."
      ]
    },
    {
      "cell_type": "code",
      "metadata": {
        "id": "ckNPGfFg83Vk"
      },
      "source": [
        "\n",
        "class Place():\n",
        "    def __init__(self, mode):\n",
        "        self.rooms = mode\n",
        "\n",
        "    def isDirty(self, position):\n",
        "        return self.rooms[position] == PLACE_STATUS['dirty']\n",
        "\n",
        "    def makeDirty(self, position):\n",
        "        if not self.isDirty(position):\n",
        "            self.rooms[position] = PLACE_STATUS['dirty']\n",
        "\n",
        "    def makeClean(self, position):\n",
        "        if self.isDirty(position):\n",
        "            self.rooms[position] = PLACE_STATUS['clean']\n",
        "\n",
        "    def spawnDirt(self):\n",
        "        position = rd.choice([POSITION['A'], POSITION['B']])\n",
        "        if not self.isDirty(position) and spawnStatus():\n",
        "            self.makeDirty(position)\n"
      ],
      "execution_count": 158,
      "outputs": []
    },
    {
      "cell_type": "markdown",
      "metadata": {
        "id": "1DUIqB3F83Vl"
      },
      "source": [
        "## Classe Agent\n",
        "\n",
        "Clase que modela o agente (aspirador de pó) e seus comportamentos"
      ]
    },
    {
      "cell_type": "code",
      "metadata": {
        "id": "UNXghVw283Vm"
      },
      "source": [
        "\n",
        "class Agent():\n",
        "\n",
        "    def __init__(self, position, place: Place):\n",
        "        self.position = position\n",
        "        self.place = place\n",
        "        self.score = 0\n",
        "\n",
        "    def moveAgent(self):\n",
        "      if self.position == POSITION['A']:\n",
        "        self.position = POSITION['B']\n",
        "      elif self.position == POSITION['B']:\n",
        "        self.position = POSITION['A']\n",
        "      else:\n",
        "        pass\n",
        "        #NoOp\n",
        "\n",
        "    def startCleaning(self):\n",
        "        if self.place.isDirty(self.position):\n",
        "            self.place.makeClean(self.position)\n",
        "            self.score += 1\n",
        "        else: \n",
        "          self.score -= 1\n",
        "        self.moveAgent()\n",
        "        self.place.spawnDirt()\n"
      ],
      "execution_count": 159,
      "outputs": []
    },
    {
      "cell_type": "code",
      "metadata": {
        "id": "-ZwZ-UdeVhrR"
      },
      "source": [
        ""
      ],
      "execution_count": null,
      "outputs": []
    },
    {
      "cell_type": "markdown",
      "metadata": {
        "id": "PDD5T7KW83Vn"
      },
      "source": [
        "## Main"
      ]
    },
    {
      "cell_type": "code",
      "metadata": {
        "colab": {
          "base_uri": "https://localhost:8080/"
        },
        "id": "uWWVXdsZ83Vo",
        "outputId": "40170a5e-ced9-44b6-e6f5-cfa969ded476"
      },
      "source": [
        "\n",
        "def main():\n",
        "    countIter = 0\n",
        "    scoreCount = 0\n",
        "    for statusA in PLACE_STATUS:\n",
        "        for statusB in PLACE_STATUS:\n",
        "            print(\"Iteration \", countIter)\n",
        "            startMode = [statusA, statusB]\n",
        "            place = Place(startMode)\n",
        "            agentStartPosition = rd.choice([POSITION['A'], POSITION['B']])\n",
        "            agent = Agent(agentStartPosition, place)\n",
        "            for i in range(CYCLES):\n",
        "                agent.startCleaning()\n",
        "            countIter += 1\n",
        "            scoreCount += agent.score\n",
        "            print(\"Starting with room A being \", statusA, \" and room B being \", statusB, \". The agent cleaned \", agent.score)\n",
        "            print(\"\\n\")\n",
        "    print(\"The average score was \", scoreCount/countIter)\n",
        "main()\n"
      ],
      "execution_count": 160,
      "outputs": [
        {
          "output_type": "stream",
          "name": "stdout",
          "text": [
            "Iteration  0\n",
            "Starting with room A being  clean  and room B being  clean . The agent cleaned  -426\n",
            "\n",
            "\n",
            "Iteration  1\n",
            "Starting with room A being  clean  and room B being  dirty . The agent cleaned  -388\n",
            "\n",
            "\n",
            "Iteration  2\n",
            "Starting with room A being  dirty  and room B being  clean . The agent cleaned  -452\n",
            "\n",
            "\n",
            "Iteration  3\n",
            "Starting with room A being  dirty  and room B being  dirty . The agent cleaned  -438\n",
            "\n",
            "\n",
            "The average score was  -426.0\n"
          ]
        }
      ]
    },
    {
      "cell_type": "code",
      "metadata": {
        "id": "UjJJbb4U83Vq"
      },
      "source": [
        ""
      ],
      "execution_count": 160,
      "outputs": []
    }
  ]
}